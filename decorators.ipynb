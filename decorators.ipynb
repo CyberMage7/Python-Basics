{
 "cells": [
  {
   "cell_type": "code",
   "execution_count": 9,
   "metadata": {},
   "outputs": [],
   "source": [
    "def main_welcome(func):\n",
    "\n",
    "    def sub_welcome():\n",
    "        print(\"Welcome to the decorator file\")\n",
    "        func()\n",
    "        print(\"Ending of the function\")\n",
    "    return sub_welcome()"
   ]
  },
  {
   "cell_type": "code",
   "execution_count": 2,
   "metadata": {},
   "outputs": [
    {
     "name": "stdout",
     "output_type": "stream",
     "text": [
      "Welcvome to the decorator file\n",
      "8\n",
      "Ending of the function\n"
     ]
    }
   ],
   "source": [
    "# main_welcome(len, (1,4,7,0,12,13,1,4))"
   ]
  },
  {
   "cell_type": "code",
   "execution_count": 10,
   "metadata": {},
   "outputs": [
    {
     "name": "stdout",
     "output_type": "stream",
     "text": [
      "Welcome to the decorator file\n",
      "I am in course introduction function\n",
      "Ending of the function\n"
     ]
    }
   ],
   "source": [
    "### Decorators\n",
    "@main_welcome\n",
    "def course_introduction():\n",
    "    print(\"I am in course introduction function\")"
   ]
  },
  {
   "cell_type": "code",
   "execution_count": null,
   "metadata": {},
   "outputs": [],
   "source": []
  }
 ],
 "metadata": {
  "kernelspec": {
   "display_name": "Python 3",
   "language": "python",
   "name": "python3"
  },
  "language_info": {
   "codemirror_mode": {
    "name": "ipython",
    "version": 3
   },
   "file_extension": ".py",
   "mimetype": "text/x-python",
   "name": "python",
   "nbconvert_exporter": "python",
   "pygments_lexer": "ipython3",
   "version": "3.12.0"
  }
 },
 "nbformat": 4,
 "nbformat_minor": 2
}

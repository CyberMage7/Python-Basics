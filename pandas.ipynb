{
 "cells": [
  {
   "cell_type": "code",
   "execution_count": 4,
   "metadata": {},
   "outputs": [
    {
     "name": "stdout",
     "output_type": "stream",
     "text": [
      "0     6\n",
      "1     7\n",
      "2     8\n",
      "3     9\n",
      "4    10\n",
      "dtype: int64\n"
     ]
    }
   ],
   "source": [
    "import pandas as pd\n",
    "data=[6,7,8,9,10]\n",
    "series=pd.Series(data)\n",
    "print(series)"
   ]
  },
  {
   "cell_type": "code",
   "execution_count": 6,
   "metadata": {},
   "outputs": [
    {
     "name": "stdout",
     "output_type": "stream",
     "text": [
      "a    1\n",
      "b    2\n",
      "c    3\n",
      "dtype: int64\n"
     ]
    }
   ],
   "source": [
    "## Create a series from dictionary\n",
    "data2={'a':1, 'b':2, 'c':3}\n",
    "series_dit=pd.Series(data2)\n",
    "print(series_dit)"
   ]
  },
  {
   "cell_type": "code",
   "execution_count": 7,
   "metadata": {},
   "outputs": [
    {
     "data": {
      "text/plain": [
       "c    56\n",
       "d    78\n",
       "e    90\n",
       "dtype: int64"
      ]
     },
     "execution_count": 7,
     "metadata": {},
     "output_type": "execute_result"
    }
   ],
   "source": [
    "data3=[56,78,90]\n",
    "ind=['c','d','e']\n",
    "pd.Series(data3, index=ind)"
   ]
  },
  {
   "cell_type": "code",
   "execution_count": 8,
   "metadata": {},
   "outputs": [
    {
     "name": "stdout",
     "output_type": "stream",
     "text": [
      "      Name  Age     City\n",
      "0  Vishwas   20   Kanpur\n",
      "1   Anshul   21    Hisar\n",
      "2   Satwik   22  Lucknow\n"
     ]
    }
   ],
   "source": [
    "data4={\n",
    "    'Name':['Vishwas', 'Anshul', 'Satwik'],\n",
    "    'Age':[20,21,22],\n",
    "    'City':['Kanpur', 'Hisar', 'Lucknow']\n",
    "}\n",
    "dat5=pd.DataFrame(data4)\n",
    "print(dat5)"
   ]
  },
  {
   "cell_type": "code",
   "execution_count": 9,
   "metadata": {},
   "outputs": [
    {
     "name": "stdout",
     "output_type": "stream",
     "text": [
      "      Name  Age     City\n",
      "0  Vishwas   20   Kanpur\n",
      "1    Sumit   21  Benaras\n",
      "2    Sahil   19  Guwhati\n"
     ]
    }
   ],
   "source": [
    "data=[\n",
    "    {'Name':'Vishwas', 'Age':20, 'City':'Kanpur'},\n",
    "    {'Name':'Sumit', 'Age':21, 'City':'Benaras'},\n",
    "    {'Name':'Sahil', 'Age':19, 'City':'Guwhati'}\n",
    "]\n",
    "dat6=pd.DataFrame(data)\n",
    "print(dat6)"
   ]
  },
  {
   "cell_type": "code",
   "execution_count": null,
   "metadata": {},
   "outputs": [],
   "source": []
  }
 ],
 "metadata": {
  "kernelspec": {
   "display_name": "Python 3",
   "language": "python",
   "name": "python3"
  },
  "language_info": {
   "codemirror_mode": {
    "name": "ipython",
    "version": 3
   },
   "file_extension": ".py",
   "mimetype": "text/x-python",
   "name": "python",
   "nbconvert_exporter": "python",
   "pygments_lexer": "ipython3",
   "version": "3.12.0"
  }
 },
 "nbformat": 4,
 "nbformat_minor": 2
}
